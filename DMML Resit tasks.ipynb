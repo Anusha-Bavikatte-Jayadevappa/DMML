{
 "cells": [
  {
   "cell_type": "code",
   "execution_count": 1,
   "id": "696a9ede",
   "metadata": {},
   "outputs": [],
   "source": [
    "import numpy as np\n",
    "import matplotlib.pyplot as plt\n",
    "import pandas as pd\n",
    "import sklearn\n",
    "from sklearn.model_selection import train_test_split\n",
    "from sklearn.naive_bayes import GaussianNB\n",
    "from sklearn.metrics import accuracy_score, classification_report\n",
    "from sklearn.model_selection import cross_val_score\n",
    "from PIL import Image\n"
   ]
  },
  {
   "cell_type": "code",
   "execution_count": 2,
   "id": "f6540912",
   "metadata": {},
   "outputs": [],
   "source": [
    "import os"
   ]
  },
  {
   "cell_type": "code",
   "execution_count": null,
   "id": "ef544b56",
   "metadata": {},
   "outputs": [],
   "source": []
  },
  {
   "cell_type": "code",
   "execution_count": 3,
   "id": "0b9295d1",
   "metadata": {},
   "outputs": [],
   "source": [
    "Smiley_X = np.load(\"C:\\\\Users\\\\anush\\\\Downloads\\\\DMML\\\\smiley_dataset\\\\smiley_X.npy\")\n",
    "Smiley_Y = np.load(\"C:\\\\Users\\\\anush\\\\Downloads\\\\DMML\\\\smiley_dataset\\\\smiley_Y.npy\")\n",
    "Smiley_X = np.load(\"C:\\\\Users\\\\anush\\\\Downloads\\\\DMML\\\\smiley_dataset\\\\smiley_noisy_X.npy\")\n",
    "Smiley_X = np.load(\"C:\\\\Users\\\\anush\\\\Downloads\\\\DMML\\\\smiley_dataset\\\\smiley_noisy_Y.npy\")\n"
   ]
  },
  {
   "cell_type": "code",
   "execution_count": 4,
   "id": "fb91e0e7",
   "metadata": {
    "scrolled": true
   },
   "outputs": [
    {
     "name": "stdout",
     "output_type": "stream",
     "text": [
      "Unique Labels: [0. 1. 2.]\n"
     ]
    }
   ],
   "source": [
    "labels = np.load(\"C:\\\\Users\\\\anush\\\\Downloads\\\\DMML\\\\smiley_dataset\\\\Smiley_X.npy\")\n",
    "labels = np.load(\"C:\\\\Users\\\\anush\\\\Downloads\\\\DMML\\\\smiley_dataset\\\\Smiley_Y.npy\")\n",
    "labels = np.load(\"C:\\\\Users\\\\anush\\\\Downloads\\\\DMML\\\\smiley_dataset\\\\smiley_noisy_X.npy\")\n",
    "labels = np.load(\"C:\\\\Users\\\\anush\\\\Downloads\\\\DMML\\\\smiley_dataset\\\\smiley_noisy_Y.npy\")\n",
    "\n",
    "# Find unique labels\n",
    "unique_labels = np.unique(labels)\n",
    "\n",
    "# Print the unique labels\n",
    "print(\"Unique Labels:\", unique_labels)"
   ]
  },
  {
   "cell_type": "code",
   "execution_count": null,
   "id": "1b23c2b6",
   "metadata": {},
   "outputs": [],
   "source": []
  },
  {
   "cell_type": "code",
   "execution_count": 5,
   "id": "97ae673f",
   "metadata": {},
   "outputs": [
    {
     "name": "stdout",
     "output_type": "stream",
     "text": [
      "       0    1    2    3    4    5    6    7    8    9  ...   72   73   74  \\\n",
      "0    0.0  0.0  0.0  0.0  0.0  0.0  0.0  0.0  0.0  0.0  ...  0.0  0.0  0.0   \n",
      "1    0.0  0.0  0.0  0.0  0.0  0.0  0.0  0.0  0.0  0.0  ...  0.0  0.0  0.0   \n",
      "2    0.0  0.0  0.0  0.0  0.0  0.0  0.0  0.0  0.0  0.0  ...  0.0  0.0  0.0   \n",
      "3    0.0  0.0  0.0  0.0  0.0  0.0  0.0  0.0  0.0  0.0  ...  0.0  0.0  0.0   \n",
      "4    0.0  0.0  0.0  0.0  0.0  0.0  0.0  0.0  0.0  0.0  ...  0.0  0.0  0.0   \n",
      "..   ...  ...  ...  ...  ...  ...  ...  ...  ...  ...  ...  ...  ...  ...   \n",
      "199  0.0  0.0  0.0  0.0  0.0  0.0  1.0  0.0  0.0  0.0  ...  0.0  0.0  0.0   \n",
      "200  0.0  0.0  0.0  0.0  0.0  0.0  0.0  0.0  0.0  0.0  ...  0.0  0.0  0.0   \n",
      "201  0.0  0.0  0.0  0.0  0.0  0.0  0.0  0.0  0.0  0.0  ...  0.0  0.0  0.0   \n",
      "202  0.0  0.0  0.0  0.0  0.0  0.0  0.0  0.0  0.0  0.0  ...  0.0  0.0  0.0   \n",
      "203  0.0  0.0  0.0  0.0  0.0  0.0  1.0  0.0  0.0  0.0  ...  0.0  0.0  0.0   \n",
      "\n",
      "      75   76   77   78   79   80  Label  \n",
      "0    0.0  0.0  0.0  0.0  0.0  0.0    2.0  \n",
      "1    0.0  0.0  0.0  0.0  0.0  0.0    2.0  \n",
      "2    0.0  0.0  0.0  0.0  0.0  0.0    2.0  \n",
      "3    0.0  0.0  0.0  0.0  0.0  0.0    2.0  \n",
      "4    0.0  0.0  0.0  0.0  0.0  0.0    2.0  \n",
      "..   ...  ...  ...  ...  ...  ...    ...  \n",
      "199  0.0  0.0  0.0  0.0  0.0  0.0    0.0  \n",
      "200  0.0  0.0  0.0  0.0  0.0  0.0    0.0  \n",
      "201  0.0  0.0  0.0  0.0  0.0  0.0    0.0  \n",
      "202  0.0  0.0  0.0  0.0  0.0  0.0    0.0  \n",
      "203  0.0  0.0  0.0  0.0  0.0  0.0    0.0  \n",
      "\n",
      "[204 rows x 82 columns]\n"
     ]
    }
   ],
   "source": [
    "# Load the dataset and labels from the .npy files\n",
    "data = np.load(\"C:\\\\Users\\\\anush\\\\Downloads\\\\DMML\\\\smiley_dataset\\\\smiley_noisy_X.npy\")\n",
    "labels = np.load(\"C:\\\\Users\\\\anush\\\\Downloads\\\\DMML\\\\smiley_dataset\\\\smiley_noisy_Y.npy\")\n",
    "\n",
    "# Flatten the data array to make it 2-dimensional\n",
    "data_flat = data.reshape(data.shape[0], -1)\n",
    "\n",
    "# Convert the NumPy arrays to Pandas DataFrame\n",
    "df_SmileyX = pd.DataFrame(data_flat)\n",
    "df_SmileyY = pd.DataFrame(labels, columns=['Label'])\n",
    "\n",
    "# Concatenate the data and labels along the columns (axis=1)\n",
    "df_smiley_dataset = pd.concat([df_SmileyX, df_SmileyY], axis=1)\n",
    "\n",
    "# Print the resulting Pandas DataFrame\n",
    "print(df_smiley_dataset)\n",
    "\n",
    "\n"
   ]
  },
  {
   "cell_type": "code",
   "execution_count": 6,
   "id": "73864f83",
   "metadata": {},
   "outputs": [
    {
     "data": {
      "text/html": [
       "<div>\n",
       "<style scoped>\n",
       "    .dataframe tbody tr th:only-of-type {\n",
       "        vertical-align: middle;\n",
       "    }\n",
       "\n",
       "    .dataframe tbody tr th {\n",
       "        vertical-align: top;\n",
       "    }\n",
       "\n",
       "    .dataframe thead th {\n",
       "        text-align: right;\n",
       "    }\n",
       "</style>\n",
       "<table border=\"1\" class=\"dataframe\">\n",
       "  <thead>\n",
       "    <tr style=\"text-align: right;\">\n",
       "      <th></th>\n",
       "      <th>0</th>\n",
       "      <th>1</th>\n",
       "      <th>2</th>\n",
       "      <th>3</th>\n",
       "      <th>4</th>\n",
       "      <th>5</th>\n",
       "      <th>6</th>\n",
       "      <th>7</th>\n",
       "      <th>8</th>\n",
       "      <th>9</th>\n",
       "      <th>...</th>\n",
       "      <th>71</th>\n",
       "      <th>72</th>\n",
       "      <th>73</th>\n",
       "      <th>74</th>\n",
       "      <th>75</th>\n",
       "      <th>76</th>\n",
       "      <th>77</th>\n",
       "      <th>78</th>\n",
       "      <th>79</th>\n",
       "      <th>80</th>\n",
       "    </tr>\n",
       "  </thead>\n",
       "  <tbody>\n",
       "    <tr>\n",
       "      <th>0</th>\n",
       "      <td>0.0</td>\n",
       "      <td>0.0</td>\n",
       "      <td>0.0</td>\n",
       "      <td>0.0</td>\n",
       "      <td>0.0</td>\n",
       "      <td>0.0</td>\n",
       "      <td>0.0</td>\n",
       "      <td>0.0</td>\n",
       "      <td>0.0</td>\n",
       "      <td>0.0</td>\n",
       "      <td>...</td>\n",
       "      <td>0.0</td>\n",
       "      <td>0.0</td>\n",
       "      <td>0.0</td>\n",
       "      <td>0.0</td>\n",
       "      <td>0.0</td>\n",
       "      <td>0.0</td>\n",
       "      <td>0.0</td>\n",
       "      <td>0.0</td>\n",
       "      <td>0.0</td>\n",
       "      <td>0.0</td>\n",
       "    </tr>\n",
       "    <tr>\n",
       "      <th>1</th>\n",
       "      <td>0.0</td>\n",
       "      <td>0.0</td>\n",
       "      <td>0.0</td>\n",
       "      <td>0.0</td>\n",
       "      <td>0.0</td>\n",
       "      <td>0.0</td>\n",
       "      <td>0.0</td>\n",
       "      <td>0.0</td>\n",
       "      <td>0.0</td>\n",
       "      <td>0.0</td>\n",
       "      <td>...</td>\n",
       "      <td>0.0</td>\n",
       "      <td>0.0</td>\n",
       "      <td>0.0</td>\n",
       "      <td>0.0</td>\n",
       "      <td>0.0</td>\n",
       "      <td>0.0</td>\n",
       "      <td>0.0</td>\n",
       "      <td>0.0</td>\n",
       "      <td>0.0</td>\n",
       "      <td>0.0</td>\n",
       "    </tr>\n",
       "    <tr>\n",
       "      <th>2</th>\n",
       "      <td>0.0</td>\n",
       "      <td>0.0</td>\n",
       "      <td>0.0</td>\n",
       "      <td>0.0</td>\n",
       "      <td>0.0</td>\n",
       "      <td>0.0</td>\n",
       "      <td>0.0</td>\n",
       "      <td>0.0</td>\n",
       "      <td>0.0</td>\n",
       "      <td>0.0</td>\n",
       "      <td>...</td>\n",
       "      <td>0.0</td>\n",
       "      <td>0.0</td>\n",
       "      <td>0.0</td>\n",
       "      <td>0.0</td>\n",
       "      <td>0.0</td>\n",
       "      <td>0.0</td>\n",
       "      <td>0.0</td>\n",
       "      <td>0.0</td>\n",
       "      <td>0.0</td>\n",
       "      <td>0.0</td>\n",
       "    </tr>\n",
       "    <tr>\n",
       "      <th>3</th>\n",
       "      <td>0.0</td>\n",
       "      <td>0.0</td>\n",
       "      <td>0.0</td>\n",
       "      <td>0.0</td>\n",
       "      <td>0.0</td>\n",
       "      <td>0.0</td>\n",
       "      <td>0.0</td>\n",
       "      <td>0.0</td>\n",
       "      <td>0.0</td>\n",
       "      <td>0.0</td>\n",
       "      <td>...</td>\n",
       "      <td>0.0</td>\n",
       "      <td>0.0</td>\n",
       "      <td>0.0</td>\n",
       "      <td>0.0</td>\n",
       "      <td>0.0</td>\n",
       "      <td>0.0</td>\n",
       "      <td>0.0</td>\n",
       "      <td>0.0</td>\n",
       "      <td>0.0</td>\n",
       "      <td>0.0</td>\n",
       "    </tr>\n",
       "    <tr>\n",
       "      <th>4</th>\n",
       "      <td>0.0</td>\n",
       "      <td>0.0</td>\n",
       "      <td>0.0</td>\n",
       "      <td>0.0</td>\n",
       "      <td>0.0</td>\n",
       "      <td>0.0</td>\n",
       "      <td>0.0</td>\n",
       "      <td>0.0</td>\n",
       "      <td>0.0</td>\n",
       "      <td>0.0</td>\n",
       "      <td>...</td>\n",
       "      <td>0.0</td>\n",
       "      <td>0.0</td>\n",
       "      <td>0.0</td>\n",
       "      <td>0.0</td>\n",
       "      <td>0.0</td>\n",
       "      <td>0.0</td>\n",
       "      <td>0.0</td>\n",
       "      <td>0.0</td>\n",
       "      <td>0.0</td>\n",
       "      <td>0.0</td>\n",
       "    </tr>\n",
       "  </tbody>\n",
       "</table>\n",
       "<p>5 rows × 81 columns</p>\n",
       "</div>"
      ],
      "text/plain": [
       "    0    1    2    3    4    5    6    7    8    9   ...   71   72   73   74  \\\n",
       "0  0.0  0.0  0.0  0.0  0.0  0.0  0.0  0.0  0.0  0.0  ...  0.0  0.0  0.0  0.0   \n",
       "1  0.0  0.0  0.0  0.0  0.0  0.0  0.0  0.0  0.0  0.0  ...  0.0  0.0  0.0  0.0   \n",
       "2  0.0  0.0  0.0  0.0  0.0  0.0  0.0  0.0  0.0  0.0  ...  0.0  0.0  0.0  0.0   \n",
       "3  0.0  0.0  0.0  0.0  0.0  0.0  0.0  0.0  0.0  0.0  ...  0.0  0.0  0.0  0.0   \n",
       "4  0.0  0.0  0.0  0.0  0.0  0.0  0.0  0.0  0.0  0.0  ...  0.0  0.0  0.0  0.0   \n",
       "\n",
       "    75   76   77   78   79   80  \n",
       "0  0.0  0.0  0.0  0.0  0.0  0.0  \n",
       "1  0.0  0.0  0.0  0.0  0.0  0.0  \n",
       "2  0.0  0.0  0.0  0.0  0.0  0.0  \n",
       "3  0.0  0.0  0.0  0.0  0.0  0.0  \n",
       "4  0.0  0.0  0.0  0.0  0.0  0.0  \n",
       "\n",
       "[5 rows x 81 columns]"
      ]
     },
     "execution_count": 6,
     "metadata": {},
     "output_type": "execute_result"
    }
   ],
   "source": [
    "df_SmileyX.head()\n"
   ]
  },
  {
   "cell_type": "code",
   "execution_count": 7,
   "id": "02181add",
   "metadata": {},
   "outputs": [
    {
     "data": {
      "text/html": [
       "<div>\n",
       "<style scoped>\n",
       "    .dataframe tbody tr th:only-of-type {\n",
       "        vertical-align: middle;\n",
       "    }\n",
       "\n",
       "    .dataframe tbody tr th {\n",
       "        vertical-align: top;\n",
       "    }\n",
       "\n",
       "    .dataframe thead th {\n",
       "        text-align: right;\n",
       "    }\n",
       "</style>\n",
       "<table border=\"1\" class=\"dataframe\">\n",
       "  <thead>\n",
       "    <tr style=\"text-align: right;\">\n",
       "      <th></th>\n",
       "      <th>Label</th>\n",
       "    </tr>\n",
       "  </thead>\n",
       "  <tbody>\n",
       "    <tr>\n",
       "      <th>0</th>\n",
       "      <td>2.0</td>\n",
       "    </tr>\n",
       "    <tr>\n",
       "      <th>1</th>\n",
       "      <td>2.0</td>\n",
       "    </tr>\n",
       "    <tr>\n",
       "      <th>2</th>\n",
       "      <td>2.0</td>\n",
       "    </tr>\n",
       "    <tr>\n",
       "      <th>3</th>\n",
       "      <td>2.0</td>\n",
       "    </tr>\n",
       "    <tr>\n",
       "      <th>4</th>\n",
       "      <td>2.0</td>\n",
       "    </tr>\n",
       "  </tbody>\n",
       "</table>\n",
       "</div>"
      ],
      "text/plain": [
       "   Label\n",
       "0    2.0\n",
       "1    2.0\n",
       "2    2.0\n",
       "3    2.0\n",
       "4    2.0"
      ]
     },
     "execution_count": 7,
     "metadata": {},
     "output_type": "execute_result"
    }
   ],
   "source": [
    "df_SmileyY.head()"
   ]
  },
  {
   "cell_type": "code",
   "execution_count": 8,
   "id": "32e33384",
   "metadata": {},
   "outputs": [
    {
     "data": {
      "image/png": "[encoded data removed]",
      "text/plain": [
       "<Figure size 640x480 with 1 Axes>"
      ]
     },
     "metadata": {},
     "output_type": "display_data"
    }
   ],
   "source": [
    "# Count the occurrences of each label in the dataset\n",
    "label_counts = df_smiley_dataset['Label'].value_counts()\n",
    "\n",
    "\n",
    "# Plot the bar graph\n",
    "plt.bar(label_counts.index, label_counts.values), \n",
    "plt.xlabel('Class Label')\n",
    "plt.ylabel('Count')\n",
    "plt.title('Smiley Dataset Class Distribution')\n",
    "plt.show()\n",
    "\n",
    "\n"
   ]
  },
  {
   "cell_type": "code",
   "execution_count": 9,
   "id": "3b4cae2c",
   "metadata": {},
   "outputs": [
    {
     "data": {
      "image/png": "[encoded data removed]",
      "text/plain": [
       "<Figure size 640x480 with 1 Axes>"
      ]
     },
     "metadata": {},
     "output_type": "display_data"
    }
   ],
   "source": [
    "# Count the occurrences of each label in the dataset\n",
    "label_counts = df_smiley_dataset['Label'].value_counts()\n",
    "\n",
    "# Plot the pie chart\n",
    "plt.pie(label_counts, labels=label_counts.index, colors=['blue', 'red', 'green'], autopct='%1.1f%%')\n",
    "plt.title('Smiley Dataset Class Distribution')\n",
    "plt.axis('equal')  # Equal aspect ratio ensures that pie is drawn as a circle.\n",
    "plt.show()\n"
   ]
  },
  {
   "cell_type": "code",
   "execution_count": 10,
   "id": "474d7ea8",
   "metadata": {},
   "outputs": [
    {
     "data": {
      "image/png": "[encoded data removed]",
      "text/plain": [
       "<Figure size 1500x500 with 8 Axes>"
      ]
     },
     "metadata": {},
     "output_type": "display_data"
    }
   ],
   "source": [
    "# Get the number of samples in the dataset\n",
    "num_samples = data.shape[0]\n",
    "\n",
    "# Define the number of sample images to display\n",
    "num_samples_to_display = 8\n",
    "\n",
    "# Check if the number of samples is smaller than the number of images to display\n",
    "if num_samples < num_samples_to_display:\n",
    "    num_samples_to_display = num_samples\n",
    "\n",
    "# Randomly select indices to get the sample images\n",
    "random_indices = np.random.choice(num_samples, num_samples_to_display, replace=False)\n",
    "\n",
    "# Plot the sample images\n",
    "fig, axes = plt.subplots(1, num_samples_to_display, figsize=(15, 5))\n",
    "\n",
    "for i, index in enumerate(random_indices):\n",
    "    image_data = data[index].reshape(9, 9)  # Reshape the flattened image data\n",
    "    label = labels[index]\n",
    "\n",
    "    # Plot the image\n",
    "    axes[i].imshow(image_data, cmap='gray')\n",
    "    axes[i].set_title(f\"Label: {label}\")\n",
    "    axes[i].axis('off')\n",
    "\n",
    "plt.show()\n"
   ]
  },
  {
   "cell_type": "code",
   "execution_count": 11,
   "id": "1d587dca",
   "metadata": {
    "scrolled": false
   },
   "outputs": [
    {
     "name": "stdout",
     "output_type": "stream",
     "text": [
      "Dataset 'Smiley_X' has no missing values.\n",
      "Dataset 'Smiley_Y' has no missing values.\n"
     ]
    }
   ],
   "source": [
    "# Function to find missing values in a dataset\n",
    "def find_missing_values(dataset, dataset_name):\n",
    "    missing_values_count = np.sum(np.isnan(dataset))\n",
    "    if missing_values_count > 0:\n",
    "        print(f\"Dataset '{dataset_name}' has {missing_values_count} missing values.\")\n",
    "    else:\n",
    "        print(f\"Dataset '{dataset_name}' has no missing values.\")\n",
    "\n",
    "# Find missing values for Smiley_X and Smiley_Y datasets\n",
    "find_missing_values(Smiley_X, \"Smiley_X\")\n",
    "find_missing_values(Smiley_Y, \"Smiley_Y\")"
   ]
  },
  {
   "cell_type": "code",
   "execution_count": 12,
   "id": "0d8ed469",
   "metadata": {},
   "outputs": [
    {
     "name": "stdout",
     "output_type": "stream",
     "text": [
      "Potential outliers found at indices: [ 44  44  45  45  46  46  47  47  56  56  57  57  58  58  59  59  69  70\n",
      "  71  72  73  76  77  78  79  81  86  87  88  89  90  91  93  94  95  96\n",
      "  97  98  99 100 101 102 104 105 106 108 109 110 111 112 112 113 113 113\n",
      " 114 114 114 115 115 115 116 117 120 123 124 124 125 125 126 126 126 127\n",
      " 127 127 128 130 131 132 133 134 135 137 138 140 141 143 144 146 147 150\n",
      " 151 154 155 156 157 158 159 160 162 163 164 165 166 168 169 170 174 178\n",
      " 179 180 180 180 181 181 181 182 182 182 183 183 184 185 186 187 188 189\n",
      " 190 191 192 192 193 193 193 194 194 195 195 197 198 199 201]\n"
     ]
    }
   ],
   "source": [
    "from scipy import stats\n",
    "def detect_outliers_zscore(data, threshold=3):\n",
    "    # Calculate the Z-scores for each data point\n",
    "    z_scores = np.abs(stats.zscore(data))\n",
    "\n",
    "    # Find the indices of potential outliers based on the threshold\n",
    "    outlier_indices = np.where(z_scores > threshold)\n",
    "\n",
    "    return outlier_indices[0]\n",
    "\n",
    "# Example usage\n",
    "smiley_X = np.load(\"C:\\\\Users\\\\anush\\\\Downloads\\\\DMML\\\\smiley_dataset\\\\smiley_X.npy\")\n",
    "\n",
    "# Detect potential outliers\n",
    "outlier_indices = detect_outliers_zscore(smiley_X)\n",
    "\n",
    "if len(outlier_indices) > 0:\n",
    "    print(\"Potential outliers found at indices:\", outlier_indices)\n",
    "else:\n",
    "    print(\"No outliers found.\")"
   ]
  },
  {
   "cell_type": "code",
   "execution_count": 13,
   "id": "84d878b4",
   "metadata": {},
   "outputs": [
    {
     "name": "stdout",
     "output_type": "stream",
     "text": [
      "No outliers found.\n"
     ]
    }
   ],
   "source": [
    "def remove_outliers_zscore(data, threshold=3):\n",
    "    # Calculate the mean and standard deviation of the data\n",
    "    mean = np.mean(data)\n",
    "    std_dev = np.std(data)\n",
    "\n",
    "    # Calculate the Z-scores for each data point\n",
    "    z_scores = np.abs((data - mean) / std_dev)\n",
    "\n",
    "    # Find the indices of the outliers based on the threshold\n",
    "    outlier_indices = np.where(z_scores > threshold)\n",
    "\n",
    "    # Remove the outliers from the data\n",
    "    cleaned_data = data[~np.isin(np.arange(len(data)), outlier_indices)]\n",
    "\n",
    "    return cleaned_data\n",
    "\n",
    "# Example usage\n",
    "smiley_X = np.load(\"C:\\\\Users\\\\anush\\\\Downloads\\\\DMML\\\\smiley_dataset\\\\Smiley_X.npy\")\n",
    "cleaned_smiley_X = remove_outliers_zscore(smiley_X)\n",
    "\n",
    "# Check if any outliers were removed\n",
    "if len(cleaned_smiley_X) < len(smiley_X):\n",
    "    print(f\"Outliers removed. Original data length: {len(smiley_X)}, Cleaned data length: {len(cleaned_smiley_X)}\")\n",
    "else:\n",
    "    print(\"No outliers found.\")"
   ]
  },
  {
   "cell_type": "code",
   "execution_count": 14,
   "id": "3cb692ba",
   "metadata": {},
   "outputs": [
    {
     "name": "stdout",
     "output_type": "stream",
     "text": [
      "No outliers found.\n"
     ]
    }
   ],
   "source": [
    "from scipy import stats\n",
    "def detect_outliers_zscore(data, threshold=3):\n",
    "    # Calculate the Z-scores for each data point\n",
    "    z_scores = np.abs(stats.zscore(data))\n",
    "\n",
    "    # Find the indices of potential outliers based on the threshold\n",
    "    outlier_indices = np.where(z_scores > threshold)\n",
    "\n",
    "    return outlier_indices[0]\n",
    "\n",
    "# Example usage\n",
    "smiley_Y = np.load(\"C:\\\\Users\\\\anush\\\\Downloads\\\\DMML\\\\smiley_dataset\\\\smiley_Y.npy\")\n",
    "\n",
    "# Detect potential outliers\n",
    "outlier_indices = detect_outliers_zscore(smiley_Y)\n",
    "\n",
    "if len(outlier_indices) > 0:\n",
    "    print(\"Potential outliers found at indices:\", outlier_indices)\n",
    "else:\n",
    "    print(\"No outliers found.\")"
   ]
  },
  {
   "cell_type": "markdown",
   "id": "625085c9",
   "metadata": {},
   "source": [
    "# Naive Bayes"
   ]
  },
  {
   "cell_type": "markdown",
   "id": "2702639a",
   "metadata": {},
   "source": [
    "'X_train' and 'X_test' have a shape of 4D. Since GaussianNB classifier is designed to handle 2-dimensional datasets, we'll have\n",
    "to to flatten or reshape them into 2D arrays (each row representing a single image) before applying the Naive Bayes classifier."
   ]
  },
  {
   "cell_type": "code",
   "execution_count": 15,
   "id": "27e8440d",
   "metadata": {},
   "outputs": [
    {
     "name": "stdout",
     "output_type": "stream",
     "text": [
      "Accuracy: 0.6585365853658537\n",
      "              precision    recall  f1-score   support\n",
      "\n",
      "    Smiley 0       0.91      0.67      0.77        15\n",
      "    Smiley 1       0.38      0.67      0.48         9\n",
      "    Smiley 2       0.79      0.65      0.71        17\n",
      "\n",
      "    accuracy                           0.66        41\n",
      "   macro avg       0.69      0.66      0.65        41\n",
      "weighted avg       0.74      0.66      0.68        41\n",
      "\n"
     ]
    }
   ],
   "source": [
    "# Flatten the 4-dimensional images into 2D arrays\n",
    "num_samples = smiley_X.shape[0]\n",
    "flattened_smiley_X = smiley_X.reshape(num_samples, -1)\n",
    "\n",
    "# Split the data into training and testing sets\n",
    "X_train, X_test, y_train, y_test = train_test_split(flattened_smiley_X, smiley_Y, test_size=0.2, random_state=42)\n",
    "\n",
    "# Train the Naive Bayes classifier\n",
    "nb_classifier = GaussianNB()\n",
    "nb_classifier.fit(X_train, y_train)\n",
    "\n",
    "# Make predictions on the testing data\n",
    "y_pred = nb_classifier.predict(X_test)\n",
    "\n",
    "# Evaluate the classifier\n",
    "accuracy = accuracy_score(y_test, y_pred)\n",
    "print(\"Accuracy:\", accuracy)\n",
    "\n",
    "# Print classification report\n",
    "class_names = [\"Smiley 0\", \"Smiley 1\", \"Smiley 2\"]\n",
    "print(classification_report(y_test, y_pred, target_names=class_names))"
   ]
  },
  {
   "cell_type": "code",
   "execution_count": 16,
   "id": "7cef9308",
   "metadata": {},
   "outputs": [
    {
     "name": "stdout",
     "output_type": "stream",
     "text": [
      "Correlation Matrix:\n",
      "[[ 1.         -0.01112527 -0.0157724  ... -0.0157724  -0.02241679\n",
      "  -0.0157724 ]\n",
      " [-0.01112527  1.         -0.00698379 ... -0.00698379 -0.00992583\n",
      "  -0.00698379]\n",
      " [-0.0157724  -0.00698379  1.         ... -0.00990099 -0.01407195\n",
      "  -0.00990099]\n",
      " ...\n",
      " [-0.0157724  -0.00698379 -0.00990099 ...  1.         -0.01407195\n",
      "  -0.00990099]\n",
      " [-0.02241679 -0.00992583 -0.01407195 ... -0.01407195  1.\n",
      "  -0.01407195]\n",
      " [-0.0157724  -0.00698379 -0.00990099 ... -0.00990099 -0.01407195\n",
      "   1.        ]]\n"
     ]
    }
   ],
   "source": [
    "# Load your Smiley dataset with numerical features (replace this with your actual data)\n",
    "smiley_features = np.load(\"C:\\\\Users\\\\anush\\\\Downloads\\\\DMML\\\\smiley_dataset\\\\smiley_X.npy\")\n",
    "\n",
    "# Flatten the multi-dimensional array to a 2D array\n",
    "num_samples = smiley_features.shape[0]\n",
    "flattened_smiley_features = smiley_features.reshape(num_samples, -1)\n",
    "\n",
    "# Calculate the correlation matrix, handling zero-variance features and NaNs\n",
    "valid_features = np.std(flattened_smiley_features, axis=0) != 0\n",
    "correlation_matrix = np.corrcoef(flattened_smiley_features[:, valid_features], rowvar=False)\n",
    "\n",
    "# Fill any NaN values in the correlation matrix with zeros or any other appropriate value\n",
    "correlation_matrix[np.isnan(correlation_matrix)] = 0\n",
    "\n",
    "# Print the correlation matrix\n",
    "print(\"Correlation Matrix:\")\n",
    "print(correlation_matrix)"
   ]
  },
  {
   "cell_type": "code",
   "execution_count": 17,
   "id": "c10438f5",
   "metadata": {},
   "outputs": [
    {
     "name": "stdout",
     "output_type": "stream",
     "text": [
      "Correlation Matrix:\n",
      "1.0\n"
     ]
    }
   ],
   "source": [
    "# Load your Smiley dataset with numerical features (replace this with your actual data)\n",
    "smiley_features = np.load(\"C:\\\\Users\\\\anush\\\\Downloads\\\\DMML\\\\smiley_dataset\\\\smiley_Y.npy\")\n",
    "\n",
    "# Calculate the correlation matrix\n",
    "correlation_matrix = np.corrcoef(smiley_features, rowvar=False)\n",
    "\n",
    "# Print the correlation matrix\n",
    "print(\"Correlation Matrix:\")\n",
    "print(correlation_matrix)"
   ]
  },
  {
   "cell_type": "markdown",
   "id": "8c620a90",
   "metadata": {},
   "source": [
    "# K - Mean Clustering"
   ]
  },
  {
   "cell_type": "markdown",
   "id": "a1e1a9f0",
   "metadata": {},
   "source": [
    "ARI measures the similarity between two sets of labels, taking into account all pairs of samples and their agreement with \n",
    "the true class labels.\n",
    "\n",
    "NMI measures the mutual information between two sets of labels while normalizing the result to be between 0 and 1.\n",
    "\n",
    "The Adjusted Rand Index (ARI) for the K-means clustering on the smiley dataset is around 0.313, indicating moderate similarity with the true labels. A value close to 1 would represent a perfect clustering alignment. The Normalized Mutual Information (NMI) is approximately 0.408, suggesting a reasonable level of similarity between the clustering and true labels. A higher NMI value indicates better clustering performance. Overall, the K-means clustering partially captures the data's underlying patterns, but there is potential for improvement to achieve more accurate clustering results."
   ]
  },
  {
   "cell_type": "code",
   "execution_count": 18,
   "id": "05647649",
   "metadata": {},
   "outputs": [
    {
     "name": "stderr",
     "output_type": "stream",
     "text": [
      "C:\\Users\\anush\\anaconda3\\lib\\site-packages\\sklearn\\cluster\\_kmeans.py:1382: UserWarning: KMeans is known to have a memory leak on Windows with MKL, when there are less chunks than available threads. You can avoid it by setting the environment variable OMP_NUM_THREADS=1.\n",
      "  warnings.warn(\n"
     ]
    },
    {
     "name": "stdout",
     "output_type": "stream",
     "text": [
      "Adjusted Rand Index (ARI): 0.31288134543314644\n",
      "Normalized Mutual Information (NMI): 0.40829222303576546\n"
     ]
    },
    {
     "data": {
      "image/png": "[encoded data removed]",
      "text/plain": [
       "<Figure size 1200x120 with 10 Axes>"
      ]
     },
     "metadata": {},
     "output_type": "display_data"
    },
    {
     "data": {
      "image/png": "[encoded data removed]",
      "text/plain": [
       "<Figure size 1200x120 with 10 Axes>"
      ]
     },
     "metadata": {},
     "output_type": "display_data"
    },
    {
     "data": {
      "image/png": "[encoded data removed]",
      "text/plain": [
       "<Figure size 1200x120 with 10 Axes>"
      ]
     },
     "metadata": {},
     "output_type": "display_data"
    }
   ],
   "source": [
    "import numpy as np\n",
    "from sklearn.cluster import KMeans\n",
    "from sklearn.metrics import adjusted_rand_score, normalized_mutual_info_score\n",
    "import matplotlib.pyplot as plt\n",
    "import os\n",
    "\n",
    "# Set the environment variable to avoid the memory leak issue on Windows with MKL\n",
    "os.environ['OMP_NUM_THREADS'] = '1'\n",
    "\n",
    "# Load the Smiley_X and Smiley_y datasets\n",
    "smiley_X = np.load(\"C:\\\\Users\\\\anush\\\\Downloads\\\\DMML\\\\smiley_dataset\\\\smiley_X.npy\")\n",
    "smiley_y = np.load(\"C:\\\\Users\\\\anush\\\\Downloads\\\\DMML\\\\smiley_dataset\\\\smiley_y.npy\")\n",
    "\n",
    "# Flatten the images into a 2D array (num_samples x num_features)\n",
    "num_samples = smiley_X.shape[0]\n",
    "flattened_smiley_X = smiley_X.reshape(num_samples, -1)\n",
    "\n",
    "# Define the number of clusters (K) you want to create\n",
    "num_clusters = 3\n",
    "\n",
    "# Apply K-means clustering with explicit n_init value to suppress the FutureWarning\n",
    "kmeans = KMeans(n_clusters=num_clusters, n_init=10, random_state=42)\n",
    "cluster_labels = kmeans.fit_predict(flattened_smiley_X)\n",
    "\n",
    "# Compute ARI and NMI between cluster assignments and true labels\n",
    "ari_score = adjusted_rand_score(smiley_y, cluster_labels)\n",
    "nmi_score = normalized_mutual_info_score(smiley_y, cluster_labels)\n",
    "\n",
    "print(\"Adjusted Rand Index (ARI):\", ari_score)\n",
    "print(\"Normalized Mutual Information (NMI):\", nmi_score)\n",
    "\n",
    "# Visualize the clustered images along with true labels\n",
    "for cluster_id in range(num_clusters):\n",
    "    cluster_indices = np.where(cluster_labels == cluster_id)[0]\n",
    "    cluster_samples = smiley_X[cluster_indices]\n",
    "    cluster_true_labels = smiley_y[cluster_indices]\n",
    "\n",
    "    # Plot the first 10 images from each cluster (you can adjust the number)\n",
    "    fig, axes = plt.subplots(1, 10, figsize=(12, 1.2), subplot_kw={'xticks': [], 'yticks': []})\n",
    "    for i in range(10):\n",
    "        axes[i].imshow(cluster_samples[i], cmap='gray')\n",
    "        axes[i].set_title(\"True Label: \" + str(cluster_true_labels[i]))\n",
    "    plt.show()\n"
   ]
  },
  {
   "cell_type": "markdown",
   "id": "7b0b08be",
   "metadata": {},
   "source": [
    "# Hierarchical Clustering (Agglomerative Clustering):"
   ]
  },
  {
   "cell_type": "code",
   "execution_count": null,
   "id": "99a95fa2",
   "metadata": {},
   "outputs": [],
   "source": []
  },
  {
   "cell_type": "code",
   "execution_count": 19,
   "id": "4c000f89",
   "metadata": {},
   "outputs": [
    {
     "name": "stdout",
     "output_type": "stream",
     "text": [
      "Adjusted Rand Index (ARI): 0.31288134543314644\n",
      "Normalized Mutual Information (NMI): 0.4082922230357654\n"
     ]
    },
    {
     "data": {
      "image/png": "[encoded data removed]",
      "text/plain": [
       "<Figure size 1200x120 with 10 Axes>"
      ]
     },
     "metadata": {},
     "output_type": "display_data"
    },
    {
     "data": {
      "image/png": "[encoded data removed]",
      "text/plain": [
       "<Figure size 1200x120 with 10 Axes>"
      ]
     },
     "metadata": {},
     "output_type": "display_data"
    },
    {
     "data": {
      "image/png": "[encoded data removed]",
      "text/plain": [
       "<Figure size 1200x120 with 10 Axes>"
      ]
     },
     "metadata": {},
     "output_type": "display_data"
    }
   ],
   "source": [
    "\n",
    "from sklearn.cluster import AgglomerativeClustering\n",
    "from sklearn.metrics import adjusted_rand_score, normalized_mutual_info_score\n",
    "\n",
    "# Set the environment variable to avoid memory leak issue on Windows with MKL\n",
    "os.environ['OMP_NUM_THREADS'] = '1'\n",
    "\n",
    "\n",
    "# Flatten the images into a 2D array (num_samples x num_features)\n",
    "num_samples = smiley_X.shape[0]\n",
    "flattened_smiley_X = smiley_X.reshape(num_samples, -1)\n",
    "\n",
    "# Define the number of clusters (K) you want to create\n",
    "num_clusters = 3\n",
    "\n",
    "# Apply Agglomerative Clustering\n",
    "agg_clustering = AgglomerativeClustering(n_clusters=num_clusters)\n",
    "cluster_labels = agg_clustering.fit_predict(flattened_smiley_X)\n",
    "\n",
    "# Evaluate the clustering using Adjusted Rand Index (ARI) and Normalized Mutual Information (NMI)\n",
    "ari = adjusted_rand_score(smiley_Y, cluster_labels)\n",
    "nmi = normalized_mutual_info_score(smiley_Y, cluster_labels)\n",
    "print(\"Adjusted Rand Index (ARI):\", ari)\n",
    "print(\"Normalized Mutual Information (NMI):\", nmi)\n",
    "\n",
    "# Visualize the clustered images\n",
    "for cluster_id in range(num_clusters):\n",
    "    cluster_indices = np.where(cluster_labels == cluster_id)[0]\n",
    "    cluster_samples = smiley_X[cluster_indices]\n",
    "\n",
    "    # Plot the first 10 images from each cluster (you can adjust the number)\n",
    "    fig, axes = plt.subplots(1, 10, figsize=(12, 1.2), subplot_kw={'xticks': [], 'yticks': []})\n",
    "    for i in range(min(10, len(cluster_samples))):\n",
    "        axes[i].imshow(cluster_samples[i], cmap='gray')\n",
    "    plt.show()\n"
   ]
  },
  {
   "cell_type": "markdown",
   "id": "b1e91944",
   "metadata": {},
   "source": [
    "# Expectation-Maximization clustering"
   ]
  },
  {
   "cell_type": "markdown",
   "id": "e680a1cf",
   "metadata": {},
   "source": [
    "The ARI value of 0.1738 suggests limited alignment between the clustering results and the ground truth. This modest performance indicates that the clustering algorithm may not have fully captured the true patterns present in the data.\n",
    "\n",
    "The NMI value of 0.2621 indicates a relatively higher level of agreement between the clustering results and the ground truth compared to the ARI. However, it is still considered moderate, suggesting that the clustering algorithm's performance is not highly accurate in capturing the underlying structure of the data."
   ]
  },
  {
   "cell_type": "code",
   "execution_count": 20,
   "id": "f75d8f85",
   "metadata": {},
   "outputs": [
    {
     "name": "stderr",
     "output_type": "stream",
     "text": [
      "C:\\Users\\anush\\anaconda3\\lib\\site-packages\\sklearn\\cluster\\_kmeans.py:1382: UserWarning: KMeans is known to have a memory leak on Windows with MKL, when there are less chunks than available threads. You can avoid it by setting the environment variable OMP_NUM_THREADS=1.\n",
      "  warnings.warn(\n"
     ]
    },
    {
     "name": "stdout",
     "output_type": "stream",
     "text": [
      "Adjusted Rand Index (ARI): 0.1738089537945894\n",
      "Normalized Mutual Information (NMI): 0.2620522555057271\n"
     ]
    },
    {
     "data": {
      "image/png": "[encoded data removed]",
      "text/plain": [
       "<Figure size 1200x120 with 10 Axes>"
      ]
     },
     "metadata": {},
     "output_type": "display_data"
    },
    {
     "data": {
      "image/png": "[encoded data removed]",
      "text/plain": [
       "<Figure size 1200x120 with 10 Axes>"
      ]
     },
     "metadata": {},
     "output_type": "display_data"
    },
    {
     "data": {
      "image/png": "[encoded data removed]",
      "text/plain": [
       "<Figure size 1200x120 with 10 Axes>"
      ]
     },
     "metadata": {},
     "output_type": "display_data"
    }
   ],
   "source": [
    "from sklearn.mixture import GaussianMixture\n",
    "from sklearn.metrics import adjusted_rand_score, normalized_mutual_info_score\n",
    "\n",
    "\n",
    "# Set the environment variable to avoid memory leak issue on Windows with MKL\n",
    "os.environ['OMP_NUM_THREADS'] = '1'\n",
    "\n",
    "\n",
    "# Flatten the images into a 2D array (num_samples x num_features)\n",
    "num_samples = smiley_X.shape[0]\n",
    "flattened_smiley_X = smiley_X.reshape(num_samples, -1)\n",
    "\n",
    "# Define the number of clusters (K) you want to create\n",
    "num_clusters = 3\n",
    "\n",
    "# Apply Gaussian Mixture Model (GMM) clustering\n",
    "gmm = GaussianMixture(n_components=num_clusters, random_state=42)\n",
    "gmm.fit(flattened_smiley_X)\n",
    "\n",
    "# Predict cluster labels for each data point\n",
    "cluster_labels = gmm.predict(flattened_smiley_X)\n",
    "\n",
    "# Evaluate the clustering using Adjusted Rand Index (ARI) and Normalized Mutual Information (NMI)\n",
    "ari = adjusted_rand_score(smiley_Y, cluster_labels)\n",
    "nmi = normalized_mutual_info_score(smiley_Y, cluster_labels)\n",
    "print(\"Adjusted Rand Index (ARI):\", ari)\n",
    "print(\"Normalized Mutual Information (NMI):\", nmi)\n",
    "\n",
    "# Visualize the clustered images\n",
    "for cluster_id in range(num_clusters):\n",
    "    cluster_indices = np.where(cluster_labels == cluster_id)[0]\n",
    "    cluster_samples = smiley_X[cluster_indices]\n",
    "\n",
    "    # Plot the first 10 images from each cluster (you can adjust the number)\n",
    "    fig, axes = plt.subplots(1, 10, figsize=(12, 1.2), subplot_kw={'xticks': [], 'yticks': []})\n",
    "    for i in range(min(10, len(cluster_samples))):\n",
    "        axes[i].imshow(cluster_samples[i], cmap='gray')\n",
    "    plt.show()\n"
   ]
  },
  {
   "cell_type": "code",
   "execution_count": null,
   "id": "9674efb3",
   "metadata": {},
   "outputs": [],
   "source": []
  },
  {
   "cell_type": "markdown",
   "id": "3f579ebf",
   "metadata": {},
   "source": [
    "When the number of cluster is increased, we can observe that the ARI has gone up 0.173 to 0.25 and NMI has gone up 0.262 to 0.447, which shows that the accuracy has slightly increased."
   ]
  },
  {
   "cell_type": "code",
   "execution_count": 21,
   "id": "aa81a94f",
   "metadata": {},
   "outputs": [
    {
     "name": "stderr",
     "output_type": "stream",
     "text": [
      "C:\\Users\\anush\\anaconda3\\lib\\site-packages\\sklearn\\cluster\\_kmeans.py:1382: UserWarning: KMeans is known to have a memory leak on Windows with MKL, when there are less chunks than available threads. You can avoid it by setting the environment variable OMP_NUM_THREADS=1.\n",
      "  warnings.warn(\n"
     ]
    },
    {
     "name": "stdout",
     "output_type": "stream",
     "text": [
      "Adjusted Rand Index (ARI): 0.23747944918189956\n",
      "Normalized Mutual Information (NMI): 0.40880661795663714\n"
     ]
    },
    {
     "data": {
      "image/png": "[encoded data removed]",
      "text/plain": [
       "<Figure size 1200x120 with 10 Axes>"
      ]
     },
     "metadata": {},
     "output_type": "display_data"
    },
    {
     "data": {
      "image/png": "[encoded data removed]",
      "text/plain": [
       "<Figure size 1200x120 with 10 Axes>"
      ]
     },
     "metadata": {},
     "output_type": "display_data"
    },
    {
     "data": {
      "image/png": "[encoded data removed]",
      "text/plain": [
       "<Figure size 1200x120 with 10 Axes>"
      ]
     },
     "metadata": {},
     "output_type": "display_data"
    },
    {
     "data": {
      "image/png": "[encoded data removed]",
      "text/plain": [
       "<Figure size 1200x120 with 10 Axes>"
      ]
     },
     "metadata": {},
     "output_type": "display_data"
    },
    {
     "data": {
      "image/png": "[encoded data removed]",
      "text/plain": [
       "<Figure size 1200x120 with 10 Axes>"
      ]
     },
     "metadata": {},
     "output_type": "display_data"
    },
    {
     "data": {
      "image/png": "[encoded data removed]",
      "text/plain": [
       "<Figure size 1200x120 with 10 Axes>"
      ]
     },
     "metadata": {},
     "output_type": "display_data"
    }
   ],
   "source": [
    "from sklearn.mixture import GaussianMixture\n",
    "from sklearn.metrics import adjusted_rand_score, normalized_mutual_info_score\n",
    "\n",
    "\n",
    "# Set the environment variable to avoid memory leak issue on Windows with MKL\n",
    "os.environ['OMP_NUM_THREADS'] = '1'\n",
    "\n",
    "\n",
    "# Flatten the images into a 2D array (num_samples x num_features)\n",
    "num_samples = smiley_X.shape[0]\n",
    "flattened_smiley_X = smiley_X.reshape(num_samples, -1)\n",
    "\n",
    "# Define the number of clusters (K) you want to create\n",
    "num_clusters = 6\n",
    "\n",
    "# Apply Gaussian Mixture Model (GMM) clustering\n",
    "gmm = GaussianMixture(n_components=num_clusters, random_state=42)\n",
    "gmm.fit(flattened_smiley_X)\n",
    "\n",
    "# Predict cluster labels for each data point\n",
    "cluster_labels = gmm.predict(flattened_smiley_X)\n",
    "\n",
    "# Evaluate the clustering using Adjusted Rand Index (ARI) and Normalized Mutual Information (NMI)\n",
    "ari = adjusted_rand_score(smiley_Y, cluster_labels)\n",
    "nmi = normalized_mutual_info_score(smiley_Y, cluster_labels)\n",
    "print(\"Adjusted Rand Index (ARI):\", ari)\n",
    "print(\"Normalized Mutual Information (NMI):\", nmi)\n",
    "\n",
    "# Visualize the clustered images\n",
    "for cluster_id in range(num_clusters):\n",
    "    cluster_indices = np.where(cluster_labels == cluster_id)[0]\n",
    "    cluster_samples = smiley_X[cluster_indices]\n",
    "\n",
    "    # Plot the first 10 images from each cluster (you can adjust the number)\n",
    "    fig, axes = plt.subplots(1, 10, figsize=(12, 1.2), subplot_kw={'xticks': [], 'yticks': []})\n",
    "    for i in range(min(10, len(cluster_samples))):\n",
    "        axes[i].imshow(cluster_samples[i], cmap='gray')\n",
    "    plt.show()\n"
   ]
  },
  {
   "cell_type": "markdown",
   "id": "b491e675",
   "metadata": {},
   "source": [
    "# Part 3: Supervised Learning"
   ]
  },
  {
   "cell_type": "markdown",
   "id": "397df2fb",
   "metadata": {},
   "source": [
    "we are spliting the data into training and test sets using scikit-learn's train_test_split function to get a test set "
   ]
  },
  {
   "cell_type": "code",
   "execution_count": 22,
   "id": "1016d016",
   "metadata": {},
   "outputs": [
    {
     "name": "stdout",
     "output_type": "stream",
     "text": [
      "Training set size: 163\n",
      "Test set size: 41\n"
     ]
    }
   ],
   "source": [
    "# Split the data into training and test sets (80% for training, 20% for testing)\n",
    "X_train, X_test, y_train, y_test = train_test_split(smiley_X, smiley_Y, test_size=0.2, random_state=42)\n",
    "\n",
    "# Print the sizes of the training and test sets\n",
    "print(\"Training set size:\", X_train.shape[0])\n",
    "print(\"Test set size:\", X_test.shape[0])"
   ]
  },
  {
   "cell_type": "code",
   "execution_count": null,
   "id": "99da6516",
   "metadata": {},
   "outputs": [],
   "source": []
  },
  {
   "cell_type": "markdown",
   "id": "206ffeac",
   "metadata": {},
   "source": [
    "We can see the Decision trees (the J48 algorithm) plotted below using the training set.\n",
    "We can see that the accuracy for this is 0.975 which is on the higher accuracy end"
   ]
  },
  {
   "cell_type": "code",
   "execution_count": 23,
   "id": "c286d252",
   "metadata": {},
   "outputs": [
    {
     "name": "stdout",
     "output_type": "stream",
     "text": [
      "Accuracy: 0.975609756097561\n"
     ]
    },
    {
     "data": {
      "image/png": "[encoded data removed]",
      "text/plain": [
       "<Figure size 1500x1000 with 1 Axes>"
      ]
     },
     "metadata": {},
     "output_type": "display_data"
    }
   ],
   "source": [
    "from sklearn.model_selection import train_test_split\n",
    "from sklearn.tree import DecisionTreeClassifier\n",
    "from sklearn.metrics import accuracy_score\n",
    "from sklearn.tree import DecisionTreeClassifier, plot_tree\n",
    "\n",
    "#Flatten the images into a 2D array (num_samples x num_features) and concatenate smiley_Y as the last column (class labels):\n",
    "num_samples = smiley_X.shape[0]\n",
    "num_features = smiley_X.shape[1] * smiley_X.shape[2]\n",
    "flattened_smiley_X = smiley_X.reshape(num_samples, -1)\n",
    "data = np.concatenate((flattened_smiley_X, smiley_Y[:, None]), axis=1)\n",
    "\n",
    "#Split the data into a training set and a test set:\n",
    "X_train, X_test, y_train, y_test = train_test_split(flattened_smiley_X, smiley_Y, test_size=0.2, random_state=42)\n",
    "\n",
    "#Create an instance of the J48 (DecisionTreeClassifier) classifier:\n",
    "classifier = DecisionTreeClassifier()\n",
    "\n",
    "#Train the classifier on the training set:\n",
    "classifier.fit(X_train, y_train)\n",
    "\n",
    "#Make predictions on the test set:\n",
    "y_pred = classifier.predict(X_test)\n",
    "\n",
    "#Calculate the accuracy of the classifier:\n",
    "accuracy = accuracy_score(y_test, y_pred)\n",
    "print(\"Accuracy:\", accuracy)\n",
    "\n",
    "#Plot the decision tree:\n",
    "plt.figure(figsize=(15, 10))\n",
    "plot_tree(classifier, filled=True, feature_names=[f\"Pixel_{i}\" for i in range(num_features)], class_names=[\"0\", \"1\", \"2\"])\n",
    "plt.show()\n",
    "\n"
   ]
  },
  {
   "cell_type": "markdown",
   "id": "67bc31d1",
   "metadata": {},
   "source": [
    "Average accuracy  10-fold cross-validation:"
   ]
  },
  {
   "cell_type": "code",
   "execution_count": 24,
   "id": "b7a84e82",
   "metadata": {},
   "outputs": [
    {
     "name": "stdout",
     "output_type": "stream",
     "text": [
      "Average accuracy on the training set using 10-fold cross-validation: 75.48%\n"
     ]
    }
   ],
   "source": [
    "from sklearn.naive_bayes import GaussianNB\n",
    "from sklearn.model_selection import cross_val_score\n",
    "from sklearn.metrics import confusion_matrix\n",
    "\n",
    "# Assuming you have already split the data and have X_train and y_train\n",
    "# X_train: Training features\n",
    "# y_train: Training labels\n",
    "\n",
    "# Create a Naive Bayes classifier\n",
    "naive_bayes_classifier = GaussianNB()\n",
    "\n",
    "# Perform 10-fold cross-validation\n",
    "num_folds = 10\n",
    "accuracy_scores = cross_val_score(naive_bayes_classifier, X_train, y_train, cv=num_folds)\n",
    "\n",
    "# Calculate the average accuracy\n",
    "average_accuracy = np.mean(accuracy_scores)\n",
    "\n",
    "print(\"Average accuracy on the training set using 10-fold cross-validation: {:.2f}%\".format(average_accuracy * 100))\n",
    "\n"
   ]
  },
  {
   "cell_type": "code",
   "execution_count": null,
   "id": "31c5cbeb",
   "metadata": {},
   "outputs": [],
   "source": []
  },
  {
   "cell_type": "markdown",
   "id": "02f1dec3",
   "metadata": {},
   "source": [
    "On repeating the experiment using training and testing data sets instead of the cross validation, we can see that accuracy on the test set is 97.56\n",
    "\n",
    "Since the new data gives high accuracy and has a similar accuracy to the training set, we can conclude that the decision tree generalizes well to new data."
   ]
  },
  {
   "cell_type": "code",
   "execution_count": 25,
   "id": "79ba0e9a",
   "metadata": {},
   "outputs": [
    {
     "name": "stdout",
     "output_type": "stream",
     "text": [
      "Accuracy on the test set using J48 (Decision Tree) classifier: 97.56%\n"
     ]
    }
   ],
   "source": [
    "from sklearn.tree import DecisionTreeClassifier\n",
    "from sklearn.metrics import accuracy_score\n",
    "\n",
    "# Assuming you have already split the data and have X_train, X_test, y_train, and y_test\n",
    "# X_train: Training features\n",
    "# X_test: Test features\n",
    "# y_train: Training labels\n",
    "# y_test: Test labels\n",
    "\n",
    "# Create a J48 (Decision Tree) classifier\n",
    "j48_classifier = DecisionTreeClassifier()\n",
    "\n",
    "# Fit the classifier on the training data\n",
    "j48_classifier.fit(X_train, y_train)\n",
    "\n",
    "# Make predictions on the test data\n",
    "y_pred = j48_classifier.predict(X_test)\n",
    "\n",
    "# Calculate the accuracy of the classifier on the test data\n",
    "accuracy = accuracy_score(y_test, y_pred)\n",
    "\n",
    "print(\"Accuracy on the test set using J48 (Decision Tree) classifier: {:.2f}%\".format(accuracy * 100))\n"
   ]
  },
  {
   "cell_type": "code",
   "execution_count": null,
   "id": "f2ad0ca3",
   "metadata": {},
   "outputs": [],
   "source": []
  },
  {
   "cell_type": "code",
   "execution_count": null,
   "id": "a3f4addb",
   "metadata": {},
   "outputs": [],
   "source": []
  },
  {
   "cell_type": "code",
   "execution_count": 26,
   "id": "8060c9fe",
   "metadata": {},
   "outputs": [
    {
     "name": "stdout",
     "output_type": "stream",
     "text": [
      "Parameters: max_depth=None, min_samples_leaf=1, min_impurity_decrease=0.00, criterion=gini, Accuracy: 0.98\n",
      "Parameters: max_depth=None, min_samples_leaf=1, min_impurity_decrease=0.00, criterion=entropy, Accuracy: 0.98\n",
      "Parameters: max_depth=None, min_samples_leaf=1, min_impurity_decrease=0.10, criterion=gini, Accuracy: 0.59\n",
      "Parameters: max_depth=None, min_samples_leaf=1, min_impurity_decrease=0.10, criterion=entropy, Accuracy: 0.95\n",
      "Parameters: max_depth=None, min_samples_leaf=5, min_impurity_decrease=0.00, criterion=gini, Accuracy: 0.98\n",
      "Parameters: max_depth=None, min_samples_leaf=5, min_impurity_decrease=0.00, criterion=entropy, Accuracy: 0.98\n",
      "Parameters: max_depth=None, min_samples_leaf=5, min_impurity_decrease=0.10, criterion=gini, Accuracy: 0.59\n",
      "Parameters: max_depth=None, min_samples_leaf=5, min_impurity_decrease=0.10, criterion=entropy, Accuracy: 0.95\n",
      "Parameters: max_depth=5, min_samples_leaf=1, min_impurity_decrease=0.00, criterion=gini, Accuracy: 0.95\n",
      "Parameters: max_depth=5, min_samples_leaf=1, min_impurity_decrease=0.00, criterion=entropy, Accuracy: 0.95\n",
      "Parameters: max_depth=5, min_samples_leaf=1, min_impurity_decrease=0.10, criterion=gini, Accuracy: 0.59\n",
      "Parameters: max_depth=5, min_samples_leaf=1, min_impurity_decrease=0.10, criterion=entropy, Accuracy: 0.95\n",
      "Parameters: max_depth=5, min_samples_leaf=5, min_impurity_decrease=0.00, criterion=gini, Accuracy: 0.95\n",
      "Parameters: max_depth=5, min_samples_leaf=5, min_impurity_decrease=0.00, criterion=entropy, Accuracy: 0.95\n",
      "Parameters: max_depth=5, min_samples_leaf=5, min_impurity_decrease=0.10, criterion=gini, Accuracy: 0.59\n",
      "Parameters: max_depth=5, min_samples_leaf=5, min_impurity_decrease=0.10, criterion=entropy, Accuracy: 0.95\n"
     ]
    }
   ],
   "source": [
    "from sklearn.tree import DecisionTreeClassifier\n",
    "from sklearn.metrics import accuracy_score\n",
    "\n",
    "# Experiment with different parameters\n",
    "max_depth_values = [None, 5]  # Try different values for max_depth\n",
    "min_samples_leaf_values = [1, 5]  # Try different values for min_samples_leaf\n",
    "min_impurity_decrease_values = [0.0, 0.1]  # Try different values for min_impurity_decrease\n",
    "criterion_values = [\"gini\", \"entropy\"]  # Try different splitting criteria\n",
    "\n",
    "for max_depth in max_depth_values:\n",
    "    for min_samples_leaf in min_samples_leaf_values:\n",
    "        for min_impurity_decrease in min_impurity_decrease_values:\n",
    "            for criterion in criterion_values:\n",
    "                # Create a J48 (Decision Tree) classifier with current parameters\n",
    "                j48_classifier = DecisionTreeClassifier(\n",
    "                    max_depth=max_depth,\n",
    "                    min_samples_leaf=min_samples_leaf,\n",
    "                    min_impurity_decrease=min_impurity_decrease,\n",
    "                    criterion=criterion\n",
    "                )\n",
    "\n",
    "                # Fit the classifier on the training data\n",
    "                j48_classifier.fit(X_train, y_train)\n",
    "\n",
    "                # Make predictions on the test data\n",
    "                y_pred = j48_classifier.predict(X_test)\n",
    "\n",
    "                # Calculate the accuracy of the classifier on the test data\n",
    "                accuracy = accuracy_score(y_test, y_pred)\n",
    "\n",
    "                print(f\"Parameters: max_depth={max_depth}, min_samples_leaf={min_samples_leaf}, \"\n",
    "                      f\"min_impurity_decrease={min_impurity_decrease:.2f}, criterion={criterion}, \"\n",
    "                      f\"Accuracy: {accuracy:.2f}\")\n"
   ]
  },
  {
   "cell_type": "markdown",
   "id": "710865b9",
   "metadata": {},
   "source": []
  },
  {
   "cell_type": "markdown",
   "id": "d93d76ba",
   "metadata": {},
   "source": [
    "I have split the original dataset in such a way that 30% of the original data is moved into test data and 70% is used as training data"
   ]
  },
  {
   "cell_type": "code",
   "execution_count": 41,
   "id": "4f7b4373",
   "metadata": {
    "scrolled": true
   },
   "outputs": [
    {
     "name": "stdout",
     "output_type": "stream",
     "text": [
      "New training set size: 142\n",
      "New test set size: 62\n",
      "Accuracy on the training set: 100.00%\n",
      "Accuracy on the test set: 100.00%\n"
     ]
    }
   ],
   "source": [
    "from sklearn.tree import DecisionTreeClassifier\n",
    "from sklearn.metrics import accuracy_score\n",
    "from sklearn.model_selection import train_test_split\n",
    "\n",
    "# Assuming you have the original data: Smiley_X (features) and Smiley_Y (labels)\n",
    "\n",
    "# Convert Smiley_X to a 2D array with one feature (reshape it)\n",
    "X = Smiley_X.reshape(-1, 1)\n",
    "\n",
    "# Split the data into training and testing sets, with 70% for training and 30% for testing\n",
    "X_train, X_test, y_train, y_test = train_test_split(X, Smiley_Y, test_size=0.3, random_state=42)\n",
    "\n",
    "# Print the sizes of the new training and testing sets\n",
    "print(\"New training set size:\", len(X_train))\n",
    "print(\"New test set size:\", len(X_test))\n",
    "\n",
    "# Create a DecisionTreeClassifier\n",
    "dt_classifier = DecisionTreeClassifier(random_state=42)\n",
    "\n",
    "# Train the classifier on the training data\n",
    "dt_classifier.fit(X_train, y_train)\n",
    "\n",
    "# Make predictions on the test data\n",
    "y_pred = dt_classifier.predict(X_test)\n",
    "\n",
    "# Calculate the accuracy of the classifier on the test data\n",
    "accuracy = accuracy_score(y_test, y_pred)\n",
    "\n",
    "# Print the accuracy\n",
    "print(\"Accuracy on the training set: {:.2f}%\".format(train_accuracy * 100))\n",
    "print(\"Accuracy on the test set: {:.2f}%\".format(accuracy * 100))\n"
   ]
  },
  {
   "cell_type": "markdown",
   "id": "42a520c9",
   "metadata": {},
   "source": [
    "\n"
   ]
  },
  {
   "cell_type": "markdown",
   "id": "fa9be24f",
   "metadata": {},
   "source": [
    "\n",
    "In this case, I have split the original dataset in such a way that 60% of the original data is moved into test data and 40% is used as training data"
   ]
  },
  {
   "cell_type": "code",
   "execution_count": 42,
   "id": "799e3308",
   "metadata": {},
   "outputs": [
    {
     "name": "stdout",
     "output_type": "stream",
     "text": [
      "New training set size: 81\n",
      "New test set size: 123\n",
      "Accuracy on the training set: 100.00%\n",
      "Accuracy on the test set: 100.00%\n"
     ]
    }
   ],
   "source": [
    "from sklearn.tree import DecisionTreeClassifier\n",
    "from sklearn.metrics import accuracy_score\n",
    "from sklearn.model_selection import train_test_split, cross_val_score\n",
    "\n",
    "# Assuming you have the original data: Smiley_X (features) and Smiley_Y (labels)\n",
    "\n",
    "# Convert Smiley_X to a 2D array with one feature (reshape it)\n",
    "X = Smiley_X.reshape(-1, 1)\n",
    "\n",
    "# Split the data into training and testing sets, with 40% for training and 60% for testing\n",
    "X_train, X_test, y_train, y_test = train_test_split(X, Smiley_Y, test_size=0.6, random_state=42)\n",
    "\n",
    "# Print the sizes of the new training and testing sets\n",
    "print(\"New training set size:\", len(X_train))\n",
    "print(\"New test set size:\", len(X_test))\n",
    "\n",
    "# Create a DecisionTreeClassifier with limited depth (max_depth) and other regularization parameters\n",
    "dt_classifier = DecisionTreeClassifier(max_depth=5, min_samples_split=5, min_samples_leaf=2, random_state=42)\n",
    "\n",
    "# Train the classifier on the training data\n",
    "dt_classifier.fit(X_train, y_train)\n",
    "\n",
    "# Make predictions on the training set\n",
    "y_train_pred = dt_classifier.predict(X_train)\n",
    "\n",
    "# Calculate the accuracy on the training set\n",
    "train_accuracy = accuracy_score(y_train, y_train_pred)\n",
    "\n",
    "# Make predictions on the test set\n",
    "y_test_pred = dt_classifier.predict(X_test)\n",
    "\n",
    "# Calculate the accuracy on the test set\n",
    "test_accuracy = accuracy_score(y_test, y_test_pred)\n",
    "\n",
    "# Print the accuracies\n",
    "print(\"Accuracy on the training set: {:.2f}%\".format(train_accuracy * 100))\n",
    "print(\"Accuracy on the test set: {:.2f}%\".format(test_accuracy * 100))\n",
    "\n"
   ]
  },
  {
   "cell_type": "markdown",
   "id": "1844693c",
   "metadata": {},
   "source": [
    "We can observe Overfitting as we alter the percentage of data in testing and training sets as they are showing 100% accuracy"
   ]
  },
  {
   "cell_type": "code",
   "execution_count": null,
   "id": "7742fa8f",
   "metadata": {},
   "outputs": [],
   "source": []
  },
  {
   "cell_type": "markdown",
   "id": "cf315437",
   "metadata": {},
   "source": [
    "# Part 4. Neural Networks and Convolutional Neural Networks. "
   ]
  },
  {
   "cell_type": "markdown",
   "id": "7f8e08fd",
   "metadata": {},
   "source": [
    "we are using scikit-learn's LogisticRegression or LinearSVC along with cross_val_score for cross-validation. We are then comparing the accuracies for both scenarios.\n",
    "\n",
    "based on the high accuracy achieved by the linear classifiers on the training and test sets, there is a hypothesis that the dataset might be linearly separable. However, further analysis and experimentation are required to confirm this and avoid overfitting."
   ]
  },
  {
   "cell_type": "code",
   "execution_count": null,
   "id": "cc2d5b17",
   "metadata": {},
   "outputs": [],
   "source": []
  },
  {
   "cell_type": "code",
   "execution_count": 64,
   "id": "42e6d9f4",
   "metadata": {},
   "outputs": [
    {
     "name": "stdout",
     "output_type": "stream",
     "text": [
      "Mean accuracy with 10-fold cross-validation (Logistic Regression): 99.50%\n",
      "Accuracy on the training set (without cross-validation - Logistic Regression): 100.00%\n",
      "Accuracy on the test set (without cross-validation - Logistic Regression): 100.00%\n",
      "Mean accuracy with 10-fold cross-validation (LinearSVC): 98.00%\n",
      "Accuracy on the training set (without cross-validation - LinearSVC): 100.00%\n",
      "Accuracy on the test set (without cross-validation - LinearSVC): 95.16%\n"
     ]
    }
   ],
   "source": [
    "from sklearn.linear_model import LogisticRegression\n",
    "from sklearn.svm import LinearSVC\n",
    "from sklearn.metrics import accuracy_score\n",
    "from sklearn.model_selection import cross_val_score, train_test_split\n",
    "\n",
    "# Assuming you have the original data: Smiley_X (features) and Smiley_Y (labels)\n",
    "\n",
    "# Flatten the input data to 2-dimensional format\n",
    "num_samples, height, width, channels = Smiley_X.shape\n",
    "X_flattened = Smiley_X.reshape(num_samples, height * width * channels)\n",
    "\n",
    "# Split the data into training and testing sets, with 70% for training and 30% for testing\n",
    "X_train, X_test, y_train, y_test = train_test_split(X_flattened, Smiley_Y, test_size=0.3, random_state=42)\n",
    "\n",
    "# Create a Logistic Regression classifier\n",
    "log_reg_classifier = LogisticRegression(random_state=42)\n",
    "\n",
    "# Train the classifier on the training data with 10-fold cross-validation\n",
    "cv_scores_log_reg = cross_val_score(log_reg_classifier, X_flattened, Smiley_Y, cv=10)\n",
    "cv_mean_accuracy_log_reg = cv_scores_log_reg.mean()\n",
    "\n",
    "# Print the mean accuracy from cross-validation with Logistic Regression\n",
    "print(\"Mean accuracy with 10-fold cross-validation (Logistic Regression): {:.2f}%\".format(cv_mean_accuracy_log_reg * 100))\n",
    "\n",
    "# Train the classifier on the training data without cross-validation\n",
    "log_reg_classifier.fit(X_train, y_train)\n",
    "\n",
    "# Make predictions on the training data\n",
    "y_train_pred_log_reg = log_reg_classifier.predict(X_train)\n",
    "\n",
    "# Calculate the accuracy on the training set without cross-validation\n",
    "train_accuracy_log_reg = accuracy_score(y_train, y_train_pred_log_reg)\n",
    "\n",
    "# Print the accuracy without cross-validation for Logistic Regression on the training set\n",
    "print(\"Accuracy on the training set (without cross-validation - Logistic Regression): {:.2f}%\".format(train_accuracy_log_reg * 100))\n",
    "\n",
    "# Make predictions on the test data\n",
    "y_test_pred_log_reg = log_reg_classifier.predict(X_test)\n",
    "\n",
    "# Calculate the accuracy on the test set without cross-validation\n",
    "test_accuracy_log_reg = accuracy_score(y_test, y_test_pred_log_reg)\n",
    "\n",
    "# Print the accuracy without cross-validation for Logistic Regression on the test set\n",
    "print(\"Accuracy on the test set (without cross-validation - Logistic Regression): {:.2f}%\".format(test_accuracy_log_reg * 100))\n",
    "\n",
    "\n",
    "# Create a LinearSVC classifier\n",
    "linear_svc_classifier = LinearSVC(random_state=42)\n",
    "\n",
    "# Train the classifier on the training data with 10-fold cross-validation\n",
    "cv_scores_linear_svc = cross_val_score(linear_svc_classifier, X_flattened, Smiley_Y, cv=10)\n",
    "cv_mean_accuracy_linear_svc = cv_scores_linear_svc.mean()\n",
    "\n",
    "# Print the mean accuracy from cross-validation with LinearSVC\n",
    "print(\"Mean accuracy with 10-fold cross-validation (LinearSVC): {:.2f}%\".format(cv_mean_accuracy_linear_svc * 100))\n",
    "\n",
    "# Train the classifier on the training data without cross-validation\n",
    "linear_svc_classifier.fit(X_train, y_train)\n",
    "\n",
    "# Make predictions on the training data\n",
    "y_train_pred_linear_svc = linear_svc_classifier.predict(X_train)\n",
    "\n",
    "# Calculate the accuracy on the training set without cross-validation\n",
    "train_accuracy_linear_svc = accuracy_score(y_train, y_train_pred_linear_svc)\n",
    "\n",
    "# Print the accuracy without cross-validation for LinearSVC on the training set\n",
    "print(\"Accuracy on the training set (without cross-validation - LinearSVC): {:.2f}%\".format(train_accuracy_linear_svc * 100))\n",
    "\n",
    "# Make predictions on the test data\n",
    "y_test_pred_linear_svc = linear_svc_classifier.predict(X_test)\n",
    "\n",
    "# Calculate the accuracy on the test set without cross-validation\n",
    "test_accuracy_linear_svc = accuracy_score(y_test, y_test_pred_linear_svc)\n",
    "\n",
    "# Print the accuracy without cross-validation for LinearSVC on the test set\n",
    "print(\"Accuracy on the test set (without cross-validation - LinearSVC): {:.2f}%\".format(test_accuracy_linear_svc * 100))\n"
   ]
  },
  {
   "cell_type": "code",
   "execution_count": 67,
   "id": "50906f99",
   "metadata": {},
   "outputs": [
    {
     "name": "stdout",
     "output_type": "stream",
     "text": [
      "MLP Configuration:  {'hidden_layer_sizes': (10,), 'activation': 'relu', 'learning_rate_init': 0.01, 'max_iter': 200, 'random_state': 42}\n",
      "Accuracy: 85.48%\n",
      "------------------------------\n",
      "MLP Configuration:  {'hidden_layer_sizes': (5,), 'activation': 'relu', 'learning_rate_init': 0.001, 'max_iter': 200, 'random_state': 42}\n",
      "Accuracy: 70.97%\n",
      "------------------------------\n"
     ]
    },
    {
     "name": "stderr",
     "output_type": "stream",
     "text": [
      "C:\\Users\\anush\\anaconda3\\lib\\site-packages\\sklearn\\neural_network\\_multilayer_perceptron.py:684: ConvergenceWarning: Stochastic Optimizer: Maximum iterations (200) reached and the optimization hasn't converged yet.\n",
      "  warnings.warn(\n"
     ]
    }
   ],
   "source": [
    "\n",
    "from sklearn.neural_network import MLPClassifier\n",
    "from sklearn.metrics import accuracy_score\n",
    "from sklearn.model_selection import train_test_split\n",
    "from sklearn.preprocessing import StandardScaler\n",
    "from sklearn.pipeline import make_pipeline\n",
    "\n",
    "\n",
    "# Flatten the input data\n",
    "num_samples, height, width, channels = Smiley_X.shape\n",
    "X_flattened = Smiley_X.reshape(num_samples, height * width * channels)\n",
    "\n",
    "# Define different configurations for the MLP with varying complexity\n",
    "mlp_configs = [\n",
    "    {\n",
    "        'hidden_layer_sizes': (10,),  # Single hidden layer with 10 neurons\n",
    "        'activation': 'relu',  # Rectified Linear Unit activation function\n",
    "        'learning_rate_init': 0.01,  # Initial learning rate\n",
    "        'max_iter': 200,  # Maximum number of iterations for training\n",
    "        'random_state': 42\n",
    "    },\n",
    "    {\n",
    "        'hidden_layer_sizes': (5,),  # Single hidden layer with 5 neurons\n",
    "        'activation': 'relu',\n",
    "        'learning_rate_init': 0.001,\n",
    "        'max_iter': 200,\n",
    "        'random_state': 42\n",
    "    },\n",
    "    # Add more configurations with varying complexity as needed\n",
    "]\n",
    "\n",
    "# Train and evaluate the MLP with different configurations\n",
    "for config in mlp_configs:\n",
    "    # Create a pipeline with StandardScaler and MLPClassifier for better performance\n",
    "    mlp_classifier = make_pipeline(StandardScaler(), MLPClassifier(**config))\n",
    "\n",
    "    # Train the model\n",
    "    mlp_classifier.fit(X_train, y_train)\n",
    "\n",
    "    # Make predictions on the test set\n",
    "    y_pred = mlp_classifier.predict(X_test)\n",
    "\n",
    "    # Calculate the accuracy of the model\n",
    "    accuracy = accuracy_score(y_test, y_pred)\n",
    "\n",
    "    print(\"MLP Configuration: \", config)\n",
    "    print(\"Accuracy: {:.2f}%\".format(accuracy * 100))\n",
    "    print(\"-\" * 30)\n"
   ]
  },
  {
   "cell_type": "code",
   "execution_count": 68,
   "id": "cb682bf7",
   "metadata": {},
   "outputs": [
    {
     "name": "stdout",
     "output_type": "stream",
     "text": [
      "MLP Configuration:  {'hidden_layer_sizes': (10,), 'activation': 'relu', 'learning_rate_init': 0.01, 'max_iter': 200, 'random_state': 42}\n",
      "Accuracy: 85.48%\n",
      "------------------------------\n",
      "MLP Configuration:  {'hidden_layer_sizes': (10,), 'activation': 'relu', 'learning_rate_init': 0.001, 'max_iter': 200, 'random_state': 42}\n",
      "Accuracy: 77.42%\n",
      "------------------------------\n",
      "MLP Configuration:  {'hidden_layer_sizes': (10,), 'activation': 'relu', 'learning_rate_init': 0.0001, 'max_iter': 200, 'random_state': 42}\n",
      "Accuracy: 46.77%\n",
      "------------------------------\n"
     ]
    },
    {
     "name": "stderr",
     "output_type": "stream",
     "text": [
      "C:\\Users\\anush\\anaconda3\\lib\\site-packages\\sklearn\\neural_network\\_multilayer_perceptron.py:684: ConvergenceWarning: Stochastic Optimizer: Maximum iterations (200) reached and the optimization hasn't converged yet.\n",
      "  warnings.warn(\n",
      "C:\\Users\\anush\\anaconda3\\lib\\site-packages\\sklearn\\neural_network\\_multilayer_perceptron.py:684: ConvergenceWarning: Stochastic Optimizer: Maximum iterations (200) reached and the optimization hasn't converged yet.\n",
      "  warnings.warn(\n"
     ]
    }
   ],
   "source": [
    "import numpy as np\n",
    "from sklearn.neural_network import MLPClassifier\n",
    "from sklearn.metrics import accuracy_score\n",
    "from sklearn.model_selection import train_test_split\n",
    "from sklearn.preprocessing import StandardScaler\n",
    "from sklearn.pipeline import make_pipeline\n",
    "\n",
    "\n",
    "# Flatten the input data\n",
    "num_samples, height, width, channels = Smiley_X.shape\n",
    "X_flattened = Smiley_X.reshape(num_samples, height * width * channels)\n",
    "\n",
    "# Define different configurations for the MLP with varying complexity and learning rates\n",
    "mlp_configs = [\n",
    "    {\n",
    "        'hidden_layer_sizes': (10,),  # Single hidden layer with 10 neurons\n",
    "        'activation': 'relu',  # Rectified Linear Unit activation function\n",
    "        'learning_rate_init': 0.01,  # Initial learning rate\n",
    "        'max_iter': 200,  # Maximum number of iterations for training\n",
    "        'random_state': 42\n",
    "    },\n",
    "    {\n",
    "        'hidden_layer_sizes': (10,),\n",
    "        'activation': 'relu',\n",
    "        'learning_rate_init': 0.001,  # Smaller learning rate\n",
    "        'max_iter': 200,\n",
    "        'random_state': 42\n",
    "    },\n",
    "    {\n",
    "        'hidden_layer_sizes': (10,),\n",
    "        'activation': 'relu',\n",
    "        'learning_rate_init': 0.0001,  # Even smaller learning rate\n",
    "        'max_iter': 200,\n",
    "        'random_state': 42\n",
    "    },\n",
    "]\n",
    "\n",
    "# Train and evaluate the MLP with different configurations\n",
    "for config in mlp_configs:\n",
    "    # Create a pipeline with StandardScaler and MLPClassifier for better performance\n",
    "    mlp_classifier = make_pipeline(StandardScaler(), MLPClassifier(**config))\n",
    "\n",
    "    # Train the model\n",
    "    mlp_classifier.fit(X_train, y_train)\n",
    "\n",
    "    # Make predictions on the test set\n",
    "    y_pred = mlp_classifier.predict(X_test)\n",
    "\n",
    "    # Calculate the accuracy of the model\n",
    "    accuracy = accuracy_score(y_test, y_pred)\n",
    "\n",
    "    print(\"MLP Configuration: \", config)\n",
    "    print(\"Accuracy: {:.2f}%\".format(accuracy * 100))\n",
    "    print(\"-\" * 30)\n"
   ]
  },
  {
   "cell_type": "code",
   "execution_count": 46,
   "id": "d6d39f15",
   "metadata": {},
   "outputs": [
    {
     "name": "stdout",
     "output_type": "stream",
     "text": [
      "MLP Configuration:  {'hidden_layer_sizes': (10,), 'activation': 'relu', 'learning_rate_init': 0.01, 'max_iter': 200, 'random_state': 42, 'batch_size': 32, 'momentum': 0.9, 'validation_fraction': 0.1}\n",
      "------------------------------\n",
      "MLP Configuration:  {'hidden_layer_sizes': (10,), 'activation': 'relu', 'learning_rate_init': 0.001, 'max_iter': 300, 'random_state': 42, 'batch_size': 64, 'momentum': 0.95, 'validation_fraction': 0.2}\n",
      "------------------------------\n"
     ]
    },
    {
     "name": "stderr",
     "output_type": "stream",
     "text": [
      "C:\\Users\\anush\\anaconda3\\lib\\site-packages\\sklearn\\neural_network\\_multilayer_perceptron.py:684: ConvergenceWarning: Stochastic Optimizer: Maximum iterations (300) reached and the optimization hasn't converged yet.\n",
      "  warnings.warn(\n"
     ]
    }
   ],
   "source": [
    "import numpy as np\n",
    "from sklearn.neural_network import MLPClassifier\n",
    "from sklearn.metrics import accuracy_score\n",
    "from sklearn.model_selection import train_test_split\n",
    "from sklearn.preprocessing import StandardScaler\n",
    "from sklearn.pipeline import make_pipeline\n",
    "\n",
    "# Load the smiley dataset\n",
    "Smiley_X = np.load(\"C:\\\\Users\\\\anush\\\\Downloads\\\\DMML\\\\smiley_dataset\\\\smiley_X.npy\")\n",
    "Smiley_Y = np.load(\"C:\\\\Users\\\\anush\\\\Downloads\\\\DMML\\\\smiley_dataset\\\\smiley_Y.npy\")\n",
    "\n",
    "# Flatten the input data\n",
    "num_samples, height, width, channels = Smiley_X.shape\n",
    "X_flattened = Smiley_X.reshape(num_samples, height * width * channels)\n",
    "\n",
    "# Split the data into training and test sets (80% for training, 20% for testing)\n",
    "X_train, X_test, y_train, y_test = train_test_split(X_flattened, Smiley_Y, test_size=0.2, random_state=42)\n",
    "\n",
    "# Define different configurations for the MLP with varying complexity, learning rates, epochs, momentum, and validation threshold\n",
    "mlp_configs = [\n",
    "    {\n",
    "        'hidden_layer_sizes': (10,),  # Single hidden layer with 10 neurons\n",
    "        'activation': 'relu',  # Rectified Linear Unit activation function\n",
    "        'learning_rate_init': 0.01,  # Initial learning rate\n",
    "        'max_iter': 200,  # Maximum number of iterations for training (epochs)\n",
    "        'random_state': 42,\n",
    "        'batch_size': 32,  # Batch size for stochastic gradient descent\n",
    "        'momentum': 0.9,  # Momentum for gradient descent\n",
    "        'validation_fraction': 0.1,  # Validation set size as a proportion of training data\n",
    "    },\n",
    "    {\n",
    "        'hidden_layer_sizes': (10,),\n",
    "        'activation': 'relu',\n",
    "        'learning_rate_init': 0.001,\n",
    "        'max_iter': 300,  # Larger number of epochs\n",
    "        'random_state': 42,\n",
    "        'batch_size': 64,  # Larger batch size\n",
    "        'momentum': 0.95,  # Higher momentum\n",
    "        'validation_fraction': 0.2,\n",
    "    },\n",
    "    # Add more configurations with different values for epochs, batch size, momentum, and validation threshold as needed\n",
    "]\n",
    "\n",
    "# Train and evaluate the MLP with different configurations\n",
    "for config in mlp_configs:\n",
    "    # Create a pipeline with StandardScaler and MLPClassifier for better performance\n",
    "    mlp_classifier = make_pipeline(StandardScaler(), MLPClassifier(**config))\n",
    "\n",
    "    # Train the model\n",
    "    mlp_classifier.fit(X_train, y_train)\n",
    "\n",
    "    # Make predictions on the test set\n",
    "    y_pred = mlp_classifier.predict(X_test)\n",
    "\n",
    "    # Optionally, you can print the configuration details only\n",
    "    print(\"MLP Configuration: \", config)\n",
    "    print(\"-\" * 30)\n"
   ]
  },
  {
   "cell_type": "markdown",
   "id": "9084633e",
   "metadata": {},
   "source": [
    "both configurations perform relatively well on the test data, but the first configuration with a higher learning rate and a smaller validation set achieved slightly better accuracy. However, further tuning and experimentation with other hyperparameters may be needed to improve the generalization of the models and avoid potential overfitting."
   ]
  },
  {
   "cell_type": "code",
   "execution_count": 47,
   "id": "b926bd2d",
   "metadata": {},
   "outputs": [
    {
     "name": "stdout",
     "output_type": "stream",
     "text": [
      "MLP Configuration:  {'hidden_layer_sizes': (10,), 'activation': 'relu', 'learning_rate_init': 0.01, 'max_iter': 200, 'random_state': 42, 'batch_size': 32, 'momentum': 0.9, 'validation_fraction': 0.1}\n",
      "Training Accuracy: 100.00%\n",
      "Test Accuracy: 97.56%\n",
      "Classification Report on Test Data:\n",
      "              precision    recall  f1-score   support\n",
      "\n",
      "         0.0       1.00      1.00      1.00        15\n",
      "         1.0       1.00      0.89      0.94         9\n",
      "         2.0       0.94      1.00      0.97        17\n",
      "\n",
      "    accuracy                           0.98        41\n",
      "   macro avg       0.98      0.96      0.97        41\n",
      "weighted avg       0.98      0.98      0.98        41\n",
      "\n",
      "Confusion Matrix on Test Data:\n",
      "[[15  0  0]\n",
      " [ 0  8  1]\n",
      " [ 0  0 17]]\n",
      "------------------------------\n",
      "MLP Configuration:  {'hidden_layer_sizes': (10,), 'activation': 'relu', 'learning_rate_init': 0.001, 'max_iter': 300, 'random_state': 42, 'batch_size': 64, 'momentum': 0.95, 'validation_fraction': 0.2}\n",
      "Training Accuracy: 100.00%\n",
      "Test Accuracy: 95.12%\n",
      "Classification Report on Test Data:\n",
      "              precision    recall  f1-score   support\n",
      "\n",
      "         0.0       1.00      0.93      0.97        15\n",
      "         1.0       1.00      0.89      0.94         9\n",
      "         2.0       0.89      1.00      0.94        17\n",
      "\n",
      "    accuracy                           0.95        41\n",
      "   macro avg       0.96      0.94      0.95        41\n",
      "weighted avg       0.96      0.95      0.95        41\n",
      "\n",
      "Confusion Matrix on Test Data:\n",
      "[[14  0  1]\n",
      " [ 0  8  1]\n",
      " [ 0  0 17]]\n",
      "------------------------------\n"
     ]
    },
    {
     "name": "stderr",
     "output_type": "stream",
     "text": [
      "C:\\Users\\anush\\anaconda3\\lib\\site-packages\\sklearn\\neural_network\\_multilayer_perceptron.py:684: ConvergenceWarning: Stochastic Optimizer: Maximum iterations (300) reached and the optimization hasn't converged yet.\n",
      "  warnings.warn(\n"
     ]
    }
   ],
   "source": [
    "import numpy as np\n",
    "from sklearn.neural_network import MLPClassifier\n",
    "from sklearn.metrics import accuracy_score, classification_report, confusion_matrix\n",
    "from sklearn.model_selection import train_test_split\n",
    "from sklearn.preprocessing import StandardScaler\n",
    "from sklearn.pipeline import make_pipeline\n",
    "\n",
    "# Load the smiley dataset\n",
    "Smiley_X = np.load(\"C:\\\\Users\\\\anush\\\\Downloads\\\\DMML\\\\smiley_dataset\\\\smiley_X.npy\")\n",
    "Smiley_Y = np.load(\"C:\\\\Users\\\\anush\\\\Downloads\\\\DMML\\\\smiley_dataset\\\\smiley_Y.npy\")\n",
    "\n",
    "# Flatten the input data\n",
    "num_samples, height, width, channels = Smiley_X.shape\n",
    "X_flattened = Smiley_X.reshape(num_samples, height * width * channels)\n",
    "\n",
    "# Split the data into training and test sets (80% for training, 20% for testing)\n",
    "X_train, X_test, y_train, y_test = train_test_split(X_flattened, Smiley_Y, test_size=0.2, random_state=42)\n",
    "\n",
    "# Define different configurations for the MLP with varying complexity, learning rates, epochs, momentum, and validation threshold\n",
    "mlp_configs = [\n",
    "    {\n",
    "        'hidden_layer_sizes': (10,),  # Single hidden layer with 10 neurons\n",
    "        'activation': 'relu',  # Rectified Linear Unit activation function\n",
    "        'learning_rate_init': 0.01,  # Initial learning rate\n",
    "        'max_iter': 200,  # Maximum number of iterations for training (epochs)\n",
    "        'random_state': 42,\n",
    "        'batch_size': 32,  # Batch size for stochastic gradient descent\n",
    "        'momentum': 0.9,  # Momentum for gradient descent\n",
    "        'validation_fraction': 0.1,  # Validation set size as a proportion of training data\n",
    "    },\n",
    "    {\n",
    "        'hidden_layer_sizes': (10,),\n",
    "        'activation': 'relu',\n",
    "        'learning_rate_init': 0.001,\n",
    "        'max_iter': 300,  # Larger number of epochs\n",
    "        'random_state': 42,\n",
    "        'batch_size': 64,  # Larger batch size\n",
    "        'momentum': 0.95,  # Higher momentum\n",
    "        'validation_fraction': 0.2,\n",
    "    },\n",
    "    # Add more configurations with different values for epochs, batch size, momentum, and validation threshold as needed\n",
    "]\n",
    "\n",
    "# Train and evaluate the MLP with different configurations\n",
    "for config in mlp_configs:\n",
    "    # Create a pipeline with StandardScaler and MLPClassifier for better performance\n",
    "    mlp_classifier = make_pipeline(StandardScaler(), MLPClassifier(**config))\n",
    "\n",
    "    # Train the model\n",
    "    mlp_classifier.fit(X_train, y_train)\n",
    "\n",
    "    # Make predictions on the training and test sets\n",
    "    y_train_pred = mlp_classifier.predict(X_train)\n",
    "    y_test_pred = mlp_classifier.predict(X_test)\n",
    "\n",
    "    # Print the configuration details\n",
    "    print(\"MLP Configuration: \", config)\n",
    "    \n",
    "    # Evaluate the model on the training set\n",
    "    train_accuracy = accuracy_score(y_train, y_train_pred)\n",
    "    print(\"Training Accuracy: {:.2f}%\".format(train_accuracy * 100))\n",
    "\n",
    "    # Evaluate the model on the test set\n",
    "    test_accuracy = accuracy_score(y_test, y_test_pred)\n",
    "    print(\"Test Accuracy: {:.2f}%\".format(test_accuracy * 100))\n",
    "    \n",
    "    # Print the classification report for test data\n",
    "    print(\"Classification Report on Test Data:\")\n",
    "    print(classification_report(y_test, y_test_pred))\n",
    "    \n",
    "    # Print the confusion matrix for test data\n",
    "    print(\"Confusion Matrix on Test Data:\")\n",
    "    print(confusion_matrix(y_test, y_test_pred))\n",
    "    \n",
    "    print(\"-\" * 30)\n"
   ]
  },
  {
   "cell_type": "code",
   "execution_count": null,
   "id": "ac534b17",
   "metadata": {},
   "outputs": [],
   "source": []
  },
  {
   "cell_type": "markdown",
   "id": "0ead939b",
   "metadata": {},
   "source": [
    "The experiments show promising results, suggesting that deep neural networks are capable of learning and generalizing from the smiley dataset. However, it's important to keep in mind that the conclusions drawn here are based on the specific experiments performed. For more robust conclusions, it's beneficial to explore a wider range of hyperparameters, architecture designs, and additional evaluation techniques to ensure the models' generalization capabilities in different scenarios."
   ]
  },
  {
   "cell_type": "code",
   "execution_count": null,
   "id": "e641ceb7",
   "metadata": {},
   "outputs": [],
   "source": []
  },
  {
   "cell_type": "code",
   "execution_count": null,
   "id": "f05f4dea",
   "metadata": {},
   "outputs": [],
   "source": []
  },
  {
   "cell_type": "code",
   "execution_count": null,
   "id": "5a6d7ec4",
   "metadata": {},
   "outputs": [],
   "source": []
  }
 ],
 "metadata": {
  "kernelspec": {
   "display_name": "Python 3 (ipykernel)",
   "language": "python",
   "name": "python3"
  },
  "language_info": {
   "codemirror_mode": {
    "name": "ipython",
    "version": 3
   },
   "file_extension": ".py",
   "mimetype": "text/x-python",
   "name": "python",
   "nbconvert_exporter": "python",
   "pygments_lexer": "ipython3",
   "version": "3.10.9"
  }
 },
 "nbformat": 4,
 "nbformat_minor": 5
}
